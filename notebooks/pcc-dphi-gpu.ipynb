{
 "cells": [
  {
   "cell_type": "code",
   "execution_count": 1,
   "id": "important-comedy",
   "metadata": {
    "_cell_guid": "b1076dfc-b9ad-4769-8c92-a6c4dae69d19",
    "_uuid": "8f2839f25d086af736a60e9eeb907d3b93b6e0e5",
    "execution": {
     "iopub.execute_input": "2021-05-08T13:23:22.416143Z",
     "iopub.status.busy": "2021-05-08T13:23:22.414637Z",
     "iopub.status.idle": "2021-05-08T13:23:27.610619Z",
     "shell.execute_reply": "2021-05-08T13:23:27.609972Z"
    },
    "papermill": {
     "duration": 5.209049,
     "end_time": "2021-05-08T13:23:27.610777",
     "exception": false,
     "start_time": "2021-05-08T13:23:22.401728",
     "status": "completed"
    },
    "tags": []
   },
   "outputs": [],
   "source": [
    "#Importing necessary Libraries\n",
    "import os\n",
    "\n",
    "import numpy as np\n",
    "import pandas as pd\n",
    "\n",
    "import matplotlib.pyplot as plt\n",
    "import PIL\n",
    "\n",
    "import tensorflow as tf\n",
    "from tensorflow.keras.layers import *\n",
    "import tensorflow_addons as tfa\n",
    "from keras.models import Sequential"
   ]
  },
  {
   "cell_type": "code",
   "execution_count": 2,
   "id": "powered-retention",
   "metadata": {
    "execution": {
     "iopub.execute_input": "2021-05-08T13:23:27.630536Z",
     "iopub.status.busy": "2021-05-08T13:23:27.629260Z",
     "iopub.status.idle": "2021-05-08T13:23:27.631612Z",
     "shell.execute_reply": "2021-05-08T13:23:27.632039Z"
    },
    "papermill": {
     "duration": 0.013582,
     "end_time": "2021-05-08T13:23:27.632176",
     "exception": false,
     "start_time": "2021-05-08T13:23:27.618594",
     "status": "completed"
    },
    "tags": []
   },
   "outputs": [],
   "source": [
    "TRAIN_PATH = \"../input/pneumonia-classification-challenge/pneumonia_dataset/pneumonia_dataset/train\"\n",
    "#TRAIN_PATH = \"../input/pneumonia-classification-challenge/pneumonia_dataset_new/pneumonia_dataset_new\"\n",
    "TEST_PATH = \"../input/pneumonia-classification-challenge/pneumonia_dataset/pneumonia_dataset/test\"\n",
    "\n",
    "BATCH_SIZE = 32\n",
    "HEIGHT,WIDTH = 200,200\n",
    "CHANNELS = 3\n",
    "NUM_CLASSES = 2\n",
    "SEED = 143"
   ]
  },
  {
   "cell_type": "code",
   "execution_count": 3,
   "id": "unique-standard",
   "metadata": {
    "execution": {
     "iopub.execute_input": "2021-05-08T13:23:27.651868Z",
     "iopub.status.busy": "2021-05-08T13:23:27.651357Z",
     "iopub.status.idle": "2021-05-08T13:23:29.717765Z",
     "shell.execute_reply": "2021-05-08T13:23:29.717327Z"
    },
    "papermill": {
     "duration": 2.079635,
     "end_time": "2021-05-08T13:23:29.717887",
     "exception": false,
     "start_time": "2021-05-08T13:23:27.638252",
     "status": "completed"
    },
    "tags": []
   },
   "outputs": [
    {
     "name": "stdout",
     "output_type": "stream",
     "text": [
      "Found 1940 images belonging to 2 classes.\n",
      "Found 485 images belonging to 2 classes.\n",
      "Found 606 validated image filenames belonging to 606 classes.\n",
      "{'normal': 0, 'pneumonia': 1}\n"
     ]
    }
   ],
   "source": [
    "train_datagen = tf.keras.preprocessing.image.ImageDataGenerator(\n",
    "    rescale=1./255,\n",
    "    rotation_range=40,\n",
    "    horizontal_flip=True,\n",
    "    width_shift_range=0.2,\n",
    "    height_shift_range=0.2,\n",
    "    shear_range = 0.2, \n",
    "    zoom_range = 0.2,\n",
    "    validation_split=0.2\n",
    "   )\n",
    "\n",
    "train_ds = train_datagen.flow_from_directory(\n",
    "                             TRAIN_PATH,\n",
    "                             target_size = (HEIGHT,WIDTH),\n",
    "                             batch_size = BATCH_SIZE,\n",
    "                             class_mode = \"binary\",\n",
    "                             shuffle = True,\n",
    "                             seed = SEED,\n",
    "                             subset = \"training\",\n",
    "                             color_mode='rgb'\n",
    "                            )\n",
    "val_ds = train_datagen.flow_from_directory(\n",
    "                             TRAIN_PATH,\n",
    "                             target_size = (HEIGHT,WIDTH),\n",
    "                             batch_size = BATCH_SIZE,\n",
    "                             class_mode = \"binary\",\n",
    "                             shuffle = True,\n",
    "                             seed = SEED,\n",
    "                             subset = \"validation\",\n",
    "                             color_mode='rgb'\n",
    "                            )\n",
    "\n",
    "test_df = pd.read_csv(\"../input/pneumonia-classification-challenge/pneumonia_dataset/pneumonia_dataset/test.csv\")\n",
    "test_datagen = tf.keras.preprocessing.image.ImageDataGenerator(\n",
    "    rescale=1./255,\n",
    "   )\n",
    "test_ds = test_datagen.flow_from_dataframe(\n",
    "                      test_df,\n",
    "                      directory = TEST_PATH,\n",
    "                      x_col = \"filename\",\n",
    "                      y_col = \"filename\",\n",
    "                      target_size = (HEIGHT,WIDTH),\n",
    "                      shuffle = False,\n",
    "                      batch_size = BATCH_SIZE\n",
    "                       )\n",
    "\n",
    "\n",
    "classes_dict = train_ds.class_indices\n",
    "print(classes_dict)"
   ]
  },
  {
   "cell_type": "code",
   "execution_count": 4,
   "id": "desirable-demographic",
   "metadata": {
    "_kg_hide-input": true,
    "execution": {
     "iopub.execute_input": "2021-05-08T13:23:29.742244Z",
     "iopub.status.busy": "2021-05-08T13:23:29.741696Z",
     "iopub.status.idle": "2021-05-08T13:23:37.608001Z",
     "shell.execute_reply": "2021-05-08T13:23:37.607505Z"
    },
    "papermill": {
     "duration": 7.882913,
     "end_time": "2021-05-08T13:23:37.608154",
     "exception": false,
     "start_time": "2021-05-08T13:23:29.725241",
     "status": "completed"
    },
    "tags": []
   },
   "outputs": [
    {
     "name": "stdout",
     "output_type": "stream",
     "text": [
      "Downloading data from https://storage.googleapis.com/tensorflow/keras-applications/densenet/densenet121_weights_tf_dim_ordering_tf_kernels_notop.h5\n",
      "29089792/29084464 [==============================] - 1s 0us/step\n"
     ]
    }
   ],
   "source": [
    "model = tf.keras.applications.DenseNet121(weights= \"imagenet\",\n",
    "                                    include_top=False,\n",
    "                                    input_shape=(HEIGHT,WIDTH,CHANNELS), pooling=\"avg\")\n",
    "predictions = tf.keras.layers.Dense(14, activation='sigmoid', name='predictions')(model.output)\n",
    "model = tf.keras.Model(inputs=model.input, outputs=predictions)   \n",
    "model.load_weights(\"../input/pneumonia-classification-challenge/pretrained.h5\")\n",
    "model = tf.keras.Model(model.input, model.layers[-2].output) \n",
    "x = tf.keras.layers.Dense(512, activation = \"relu\")(model.output)\n",
    "x = tf.keras.layers.Dropout(0.3)(x)\n",
    "x = tf.keras.layers.Dense(128, activation = \"relu\")(x)\n",
    "x = tf.keras.layers.Dense(64, activation = \"relu\")(x)\n",
    "outputs = tf.keras.layers.Dense(1, activation = \"sigmoid\", dtype = tf.float32)(x)\n",
    "chxnet = tf.keras.Model(model.input,outputs)\n",
    "\n",
    "for layer in chxnet.layers[:-15]:\n",
    "        layer.trainble = False"
   ]
  },
  {
   "cell_type": "code",
   "execution_count": 5,
   "id": "creative-minnesota",
   "metadata": {
    "execution": {
     "iopub.execute_input": "2021-05-08T13:23:37.636768Z",
     "iopub.status.busy": "2021-05-08T13:23:37.635926Z",
     "iopub.status.idle": "2021-05-08T13:23:37.694658Z",
     "shell.execute_reply": "2021-05-08T13:23:37.695022Z"
    },
    "papermill": {
     "duration": 0.077912,
     "end_time": "2021-05-08T13:23:37.695190",
     "exception": false,
     "start_time": "2021-05-08T13:23:37.617278",
     "status": "completed"
    },
    "tags": []
   },
   "outputs": [
    {
     "name": "stdout",
     "output_type": "stream",
     "text": [
      "Model: \"model_3\"\n",
      "_________________________________________________________________\n",
      "Layer (type)                 Output Shape              Param #   \n",
      "=================================================================\n",
      "input_2 (InputLayer)         [(None, 200, 200, 3)]     0         \n",
      "_________________________________________________________________\n",
      "conv2d (Conv2D)              (None, 198, 198, 32)      896       \n",
      "_________________________________________________________________\n",
      "max_pooling2d (MaxPooling2D) (None, 99, 99, 32)        0         \n",
      "_________________________________________________________________\n",
      "conv2d_1 (Conv2D)            (None, 97, 97, 64)        18496     \n",
      "_________________________________________________________________\n",
      "max_pooling2d_1 (MaxPooling2 (None, 48, 48, 64)        0         \n",
      "_________________________________________________________________\n",
      "conv2d_2 (Conv2D)            (None, 46, 46, 128)       73856     \n",
      "_________________________________________________________________\n",
      "max_pooling2d_2 (MaxPooling2 (None, 23, 23, 128)       0         \n",
      "_________________________________________________________________\n",
      "conv2d_3 (Conv2D)            (None, 21, 21, 128)       147584    \n",
      "_________________________________________________________________\n",
      "max_pooling2d_3 (MaxPooling2 (None, 10, 10, 128)       0         \n",
      "_________________________________________________________________\n",
      "flatten (Flatten)            (None, 12800)             0         \n",
      "_________________________________________________________________\n",
      "dense_4 (Dense)              (None, 512)               6554112   \n",
      "_________________________________________________________________\n",
      "dense_5 (Dense)              (None, 1)                 513       \n",
      "=================================================================\n",
      "Total params: 6,795,457\n",
      "Trainable params: 6,795,457\n",
      "Non-trainable params: 0\n",
      "_________________________________________________________________\n"
     ]
    }
   ],
   "source": [
    "def create_model():\n",
    "    inputs = tf.keras.Input(shape = (HEIGHT,WIDTH,3))\n",
    "    x = Conv2D(32,(3,3),activation = \"relu\") (inputs)\n",
    "    x = MaxPooling2D((2,2)) (x)\n",
    "    x = Conv2D(64,(3,3),activation = \"relu\") (x)\n",
    "    x = MaxPooling2D((2,2)) (x)\n",
    "    x = Conv2D(128,(3,3),activation = \"relu\") (x)\n",
    "    x = MaxPooling2D((2,2)) (x)\n",
    "    x = Conv2D(128,(3,3),activation = \"relu\") (x)\n",
    "    x = MaxPooling2D((2,2)) (x)\n",
    "    x = Flatten() (x)\n",
    "    x = Dense(512,activation = \"relu\") (x)\n",
    "    outputs = Dense(1,activation = \"sigmoid\") (x)\n",
    "    \n",
    "    model = tf.keras.Model(inputs,outputs)\n",
    "    return model\n",
    "\n",
    "model = create_model()\n",
    "model.summary()"
   ]
  },
  {
   "cell_type": "code",
   "execution_count": 6,
   "id": "dense-backing",
   "metadata": {
    "execution": {
     "iopub.execute_input": "2021-05-08T13:23:37.717928Z",
     "iopub.status.busy": "2021-05-08T13:23:37.717431Z",
     "iopub.status.idle": "2021-05-08T13:23:37.721311Z",
     "shell.execute_reply": "2021-05-08T13:23:37.720875Z"
    },
    "papermill": {
     "duration": 0.017088,
     "end_time": "2021-05-08T13:23:37.721412",
     "exception": false,
     "start_time": "2021-05-08T13:23:37.704324",
     "status": "completed"
    },
    "tags": []
   },
   "outputs": [],
   "source": [
    "def compile_model(model, lr=0.001):\n",
    "    \n",
    "    optimizer = tf.keras.optimizers.Adam(lr=lr)\n",
    "    \n",
    "    loss = \"binary_crossentropy\"\n",
    "    \n",
    "    metrics = [\n",
    "       'accuracy',\n",
    "        tf.keras.metrics.Precision(name='precision'),\n",
    "        tf.keras.metrics.Recall(name='recall')\n",
    "    ]\n",
    "\n",
    "    model.compile(optimizer=optimizer, loss=loss, metrics=metrics)\n",
    "\n",
    "    return model"
   ]
  },
  {
   "cell_type": "code",
   "execution_count": 7,
   "id": "concrete-patio",
   "metadata": {
    "execution": {
     "iopub.execute_input": "2021-05-08T13:23:37.745869Z",
     "iopub.status.busy": "2021-05-08T13:23:37.744631Z",
     "iopub.status.idle": "2021-05-08T13:23:37.746911Z",
     "shell.execute_reply": "2021-05-08T13:23:37.747373Z"
    },
    "papermill": {
     "duration": 0.01712,
     "end_time": "2021-05-08T13:23:37.747490",
     "exception": false,
     "start_time": "2021-05-08T13:23:37.730370",
     "status": "completed"
    },
    "tags": []
   },
   "outputs": [],
   "source": [
    "METRIC = \"val_accuracy\"\n",
    "\n",
    "def create_callbacks():\n",
    "    \n",
    "    cpk_path = f'./best_model.h5'\n",
    "    \n",
    "    checkpoint = tf.keras.callbacks.ModelCheckpoint(\n",
    "        filepath=cpk_path,\n",
    "        monitor= METRIC,\n",
    "        mode='max',\n",
    "        save_best_only=True,\n",
    "        verbose=1,\n",
    "    )\n",
    "\n",
    "    reducelr = tf.keras.callbacks.ReduceLROnPlateau(\n",
    "        monitor= METRIC,\n",
    "        mode='max',\n",
    "        factor=0.1,\n",
    "        patience=1,\n",
    "        verbose=1\n",
    "    )\n",
    "\n",
    "    earlystop = tf.keras.callbacks.EarlyStopping(\n",
    "        monitor= METRIC,\n",
    "        mode='max',\n",
    "        patience=10, \n",
    "        verbose=1\n",
    "    )\n",
    "    \n",
    "    \n",
    "    callbacks = [checkpoint, reducelr , earlystop]         \n",
    "    \n",
    "    return callbacks"
   ]
  },
  {
   "cell_type": "code",
   "execution_count": 8,
   "id": "experimental-thought",
   "metadata": {
    "execution": {
     "iopub.execute_input": "2021-05-08T13:23:37.770041Z",
     "iopub.status.busy": "2021-05-08T13:23:37.769556Z",
     "iopub.status.idle": "2021-05-08T13:45:23.334254Z",
     "shell.execute_reply": "2021-05-08T13:45:23.333716Z"
    },
    "papermill": {
     "duration": 1305.57786,
     "end_time": "2021-05-08T13:45:23.334404",
     "exception": false,
     "start_time": "2021-05-08T13:23:37.756544",
     "status": "completed"
    },
    "tags": []
   },
   "outputs": [
    {
     "name": "stdout",
     "output_type": "stream",
     "text": [
      "Epoch 1/50\n",
      "61/61 [==============================] - 99s 2s/step - loss: 0.7540 - accuracy: 0.5240 - precision: 0.4701 - recall: 0.2046 - val_loss: 0.6915 - val_accuracy: 0.5278 - val_precision: 0.0000e+00 - val_recall: 0.0000e+00\n",
      "\n",
      "Epoch 00001: val_accuracy improved from -inf to 0.52784, saving model to ./best_model.h5\n",
      "Epoch 2/50\n",
      "61/61 [==============================] - 64s 1s/step - loss: 0.6928 - accuracy: 0.5235 - precision: 0.3587 - recall: 0.0260 - val_loss: 0.6902 - val_accuracy: 0.5278 - val_precision: 0.0000e+00 - val_recall: 0.0000e+00\n",
      "\n",
      "Epoch 00002: val_accuracy did not improve from 0.52784\n",
      "\n",
      "Epoch 00002: ReduceLROnPlateau reducing learning rate to 0.00010000000474974513.\n",
      "Epoch 3/50\n",
      "61/61 [==============================] - 61s 1s/step - loss: 0.6884 - accuracy: 0.5308 - precision: 0.2472 - recall: 0.0031 - val_loss: 0.6868 - val_accuracy: 0.5485 - val_precision: 0.7083 - val_recall: 0.0742\n",
      "\n",
      "Epoch 00003: val_accuracy improved from 0.52784 to 0.54845, saving model to ./best_model.h5\n",
      "Epoch 4/50\n",
      "61/61 [==============================] - 58s 960ms/step - loss: 0.6843 - accuracy: 0.5477 - precision: 0.6720 - recall: 0.1024 - val_loss: 0.6869 - val_accuracy: 0.5361 - val_precision: 0.5083 - val_recall: 0.5328\n",
      "\n",
      "Epoch 00004: val_accuracy did not improve from 0.54845\n",
      "\n",
      "Epoch 00004: ReduceLROnPlateau reducing learning rate to 1.0000000474974514e-05.\n",
      "Epoch 5/50\n",
      "61/61 [==============================] - 59s 959ms/step - loss: 0.6828 - accuracy: 0.5846 - precision: 0.5723 - recall: 0.5371 - val_loss: 0.6827 - val_accuracy: 0.5753 - val_precision: 0.6322 - val_recall: 0.2402\n",
      "\n",
      "Epoch 00005: val_accuracy improved from 0.54845 to 0.57526, saving model to ./best_model.h5\n",
      "Epoch 6/50\n",
      "61/61 [==============================] - 59s 965ms/step - loss: 0.6801 - accuracy: 0.5772 - precision: 0.6231 - recall: 0.2853 - val_loss: 0.6821 - val_accuracy: 0.5711 - val_precision: 0.6329 - val_recall: 0.2183\n",
      "\n",
      "Epoch 00006: val_accuracy did not improve from 0.57526\n",
      "\n",
      "Epoch 00006: ReduceLROnPlateau reducing learning rate to 1.0000000656873453e-06.\n",
      "Epoch 7/50\n",
      "61/61 [==============================] - 60s 988ms/step - loss: 0.6808 - accuracy: 0.5541 - precision: 0.6439 - recall: 0.2109 - val_loss: 0.6853 - val_accuracy: 0.5649 - val_precision: 0.6216 - val_recall: 0.2009\n",
      "\n",
      "Epoch 00007: val_accuracy did not improve from 0.57526\n",
      "\n",
      "Epoch 00007: ReduceLROnPlateau reducing learning rate to 1.0000001111620805e-07.\n",
      "Epoch 8/50\n",
      "61/61 [==============================] - 60s 979ms/step - loss: 0.6818 - accuracy: 0.5609 - precision: 0.6096 - recall: 0.2322 - val_loss: 0.6804 - val_accuracy: 0.5670 - val_precision: 0.6145 - val_recall: 0.2227\n",
      "\n",
      "Epoch 00008: val_accuracy did not improve from 0.57526\n",
      "\n",
      "Epoch 00008: ReduceLROnPlateau reducing learning rate to 1.000000082740371e-08.\n",
      "Epoch 9/50\n",
      "61/61 [==============================] - 59s 976ms/step - loss: 0.6808 - accuracy: 0.5690 - precision: 0.6214 - recall: 0.2287 - val_loss: 0.6844 - val_accuracy: 0.5505 - val_precision: 0.5733 - val_recall: 0.1878\n",
      "\n",
      "Epoch 00009: val_accuracy did not improve from 0.57526\n",
      "\n",
      "Epoch 00009: ReduceLROnPlateau reducing learning rate to 1.000000082740371e-09.\n",
      "Epoch 10/50\n",
      "61/61 [==============================] - 60s 978ms/step - loss: 0.6772 - accuracy: 0.5815 - precision: 0.6250 - recall: 0.2597 - val_loss: 0.6856 - val_accuracy: 0.5732 - val_precision: 0.6667 - val_recall: 0.1921\n",
      "\n",
      "Epoch 00010: val_accuracy did not improve from 0.57526\n",
      "\n",
      "Epoch 00010: ReduceLROnPlateau reducing learning rate to 1.000000082740371e-10.\n",
      "Epoch 11/50\n",
      "61/61 [==============================] - 59s 969ms/step - loss: 0.6867 - accuracy: 0.5407 - precision: 0.6204 - recall: 0.2010 - val_loss: 0.6826 - val_accuracy: 0.5835 - val_precision: 0.6588 - val_recall: 0.2445\n",
      "\n",
      "Epoch 00011: val_accuracy improved from 0.57526 to 0.58351, saving model to ./best_model.h5\n",
      "Epoch 12/50\n",
      "61/61 [==============================] - 60s 987ms/step - loss: 0.6778 - accuracy: 0.5708 - precision: 0.6217 - recall: 0.2444 - val_loss: 0.6806 - val_accuracy: 0.5464 - val_precision: 0.5584 - val_recall: 0.1878\n",
      "\n",
      "Epoch 00012: val_accuracy did not improve from 0.58351\n",
      "\n",
      "Epoch 00012: ReduceLROnPlateau reducing learning rate to 1.000000082740371e-11.\n",
      "Epoch 13/50\n",
      "61/61 [==============================] - 60s 989ms/step - loss: 0.6805 - accuracy: 0.5783 - precision: 0.6557 - recall: 0.2527 - val_loss: 0.6824 - val_accuracy: 0.5753 - val_precision: 0.6456 - val_recall: 0.2227\n",
      "\n",
      "Epoch 00013: val_accuracy did not improve from 0.58351\n",
      "\n",
      "Epoch 00013: ReduceLROnPlateau reducing learning rate to 1.000000082740371e-12.\n",
      "Epoch 14/50\n",
      "61/61 [==============================] - 61s 999ms/step - loss: 0.6807 - accuracy: 0.5759 - precision: 0.6193 - recall: 0.2378 - val_loss: 0.6803 - val_accuracy: 0.5629 - val_precision: 0.6000 - val_recall: 0.2227\n",
      "\n",
      "Epoch 00014: val_accuracy did not improve from 0.58351\n",
      "\n",
      "Epoch 00014: ReduceLROnPlateau reducing learning rate to 1.0000001044244145e-13.\n",
      "Epoch 15/50\n",
      "61/61 [==============================] - 60s 987ms/step - loss: 0.6769 - accuracy: 0.5805 - precision: 0.6305 - recall: 0.2299 - val_loss: 0.6810 - val_accuracy: 0.5794 - val_precision: 0.6582 - val_recall: 0.2271\n",
      "\n",
      "Epoch 00015: val_accuracy did not improve from 0.58351\n",
      "\n",
      "Epoch 00015: ReduceLROnPlateau reducing learning rate to 1.0000001179769417e-14.\n",
      "Epoch 16/50\n",
      "61/61 [==============================] - 60s 994ms/step - loss: 0.6789 - accuracy: 0.5852 - precision: 0.6046 - recall: 0.2716 - val_loss: 0.6821 - val_accuracy: 0.5753 - val_precision: 0.6716 - val_recall: 0.1965\n",
      "\n",
      "Epoch 00016: val_accuracy did not improve from 0.58351\n",
      "\n",
      "Epoch 00016: ReduceLROnPlateau reducing learning rate to 1.0000001518582595e-15.\n",
      "Epoch 17/50\n",
      "61/61 [==============================] - 61s 999ms/step - loss: 0.6795 - accuracy: 0.5672 - precision: 0.5583 - recall: 0.2271 - val_loss: 0.6816 - val_accuracy: 0.5835 - val_precision: 0.6800 - val_recall: 0.2227\n",
      "\n",
      "Epoch 00017: val_accuracy did not improve from 0.58351\n",
      "\n",
      "Epoch 00017: ReduceLROnPlateau reducing learning rate to 1.0000001095066122e-16.\n",
      "Epoch 18/50\n",
      "61/61 [==============================] - 61s 994ms/step - loss: 0.6804 - accuracy: 0.5646 - precision: 0.6061 - recall: 0.2409 - val_loss: 0.6867 - val_accuracy: 0.5567 - val_precision: 0.5854 - val_recall: 0.2096\n",
      "\n",
      "Epoch 00018: val_accuracy did not improve from 0.58351\n",
      "\n",
      "Epoch 00018: ReduceLROnPlateau reducing learning rate to 1.0000000830368326e-17.\n",
      "Epoch 19/50\n",
      "61/61 [==============================] - 60s 991ms/step - loss: 0.6834 - accuracy: 0.5737 - precision: 0.6646 - recall: 0.2315 - val_loss: 0.6831 - val_accuracy: 0.5608 - val_precision: 0.6053 - val_recall: 0.2009\n",
      "\n",
      "Epoch 00019: val_accuracy did not improve from 0.58351\n",
      "\n",
      "Epoch 00019: ReduceLROnPlateau reducing learning rate to 1.0000000664932204e-18.\n",
      "Epoch 20/50\n",
      "61/61 [==============================] - 61s 1s/step - loss: 0.6816 - accuracy: 0.5589 - precision: 0.6294 - recall: 0.2382 - val_loss: 0.6833 - val_accuracy: 0.5485 - val_precision: 0.5641 - val_recall: 0.1921\n",
      "\n",
      "Epoch 00020: val_accuracy did not improve from 0.58351\n",
      "\n",
      "Epoch 00020: ReduceLROnPlateau reducing learning rate to 1.000000045813705e-19.\n",
      "Epoch 21/50\n",
      "61/61 [==============================] - 61s 995ms/step - loss: 0.6783 - accuracy: 0.5741 - precision: 0.6320 - recall: 0.2292 - val_loss: 0.6839 - val_accuracy: 0.5814 - val_precision: 0.6912 - val_recall: 0.2052\n",
      "\n",
      "Epoch 00021: val_accuracy did not improve from 0.58351\n",
      "\n",
      "Epoch 00021: ReduceLROnPlateau reducing learning rate to 1.000000032889008e-20.\n",
      "Epoch 00021: early stopping\n"
     ]
    }
   ],
   "source": [
    "EPOCHS= 50\n",
    "VERBOSE =1\n",
    "\n",
    "tf.keras.backend.clear_session()\n",
    "\n",
    "with tf.device('/device:GPU:0'):\n",
    "    \n",
    "    model = create_model()\n",
    "    model = compile_model(model,lr=0.001)\n",
    "   \n",
    "    callbacks = create_callbacks()\n",
    "    \n",
    "    history = model.fit(train_ds, \n",
    "                        epochs=EPOCHS,\n",
    "                        callbacks=callbacks,\n",
    "                        validation_data = val_ds,\n",
    "                        verbose=VERBOSE\n",
    "                       )"
   ]
  },
  {
   "cell_type": "code",
   "execution_count": 9,
   "id": "resident-stanford",
   "metadata": {
    "execution": {
     "iopub.execute_input": "2021-05-08T13:45:24.065986Z",
     "iopub.status.busy": "2021-05-08T13:45:24.065046Z",
     "iopub.status.idle": "2021-05-08T13:45:43.808248Z",
     "shell.execute_reply": "2021-05-08T13:45:43.808661Z"
    },
    "papermill": {
     "duration": 20.116274,
     "end_time": "2021-05-08T13:45:43.808821",
     "exception": false,
     "start_time": "2021-05-08T13:45:23.692547",
     "status": "completed"
    },
    "tags": []
   },
   "outputs": [
    {
     "data": {
      "text/html": [
       "<div>\n",
       "<style scoped>\n",
       "    .dataframe tbody tr th:only-of-type {\n",
       "        vertical-align: middle;\n",
       "    }\n",
       "\n",
       "    .dataframe tbody tr th {\n",
       "        vertical-align: top;\n",
       "    }\n",
       "\n",
       "    .dataframe thead th {\n",
       "        text-align: right;\n",
       "    }\n",
       "</style>\n",
       "<table border=\"1\" class=\"dataframe\">\n",
       "  <thead>\n",
       "    <tr style=\"text-align: right;\">\n",
       "      <th></th>\n",
       "      <th>filename</th>\n",
       "      <th>label</th>\n",
       "    </tr>\n",
       "  </thead>\n",
       "  <tbody>\n",
       "    <tr>\n",
       "      <th>0</th>\n",
       "      <td>CXR_test_519.png</td>\n",
       "      <td>pneumonia</td>\n",
       "    </tr>\n",
       "    <tr>\n",
       "      <th>1</th>\n",
       "      <td>CXR_test_578.png</td>\n",
       "      <td>normal</td>\n",
       "    </tr>\n",
       "    <tr>\n",
       "      <th>2</th>\n",
       "      <td>CXR_test_359.png</td>\n",
       "      <td>normal</td>\n",
       "    </tr>\n",
       "    <tr>\n",
       "      <th>3</th>\n",
       "      <td>CXR_test_573.png</td>\n",
       "      <td>pneumonia</td>\n",
       "    </tr>\n",
       "    <tr>\n",
       "      <th>4</th>\n",
       "      <td>CXR_test_471.png</td>\n",
       "      <td>normal</td>\n",
       "    </tr>\n",
       "  </tbody>\n",
       "</table>\n",
       "</div>"
      ],
      "text/plain": [
       "           filename      label\n",
       "0  CXR_test_519.png  pneumonia\n",
       "1  CXR_test_578.png     normal\n",
       "2  CXR_test_359.png     normal\n",
       "3  CXR_test_573.png  pneumonia\n",
       "4  CXR_test_471.png     normal"
      ]
     },
     "execution_count": 9,
     "metadata": {},
     "output_type": "execute_result"
    }
   ],
   "source": [
    "MODEL_PATH = \"./best_model.h5\"\n",
    "\n",
    "model = tf.keras.models.load_model(MODEL_PATH)\n",
    "classes_dict = {0 : 'normal', 1 : 'pneumonia'}\n",
    "\n",
    "pred = model.predict(test_ds)\n",
    "pred_ls = ['normal' if i < 0.5 else 'pneumonia' for i in pred]\n",
    "\n",
    "test_df[\"label\"] = pred_ls\n",
    "test_df.to_csv(\"submission.csv\",index = False)\n",
    "test_df.head()"
   ]
  }
 ],
 "metadata": {
  "kernelspec": {
   "display_name": "Python 3",
   "language": "python",
   "name": "python3"
  },
  "language_info": {
   "codemirror_mode": {
    "name": "ipython",
    "version": 3
   },
   "file_extension": ".py",
   "mimetype": "text/x-python",
   "name": "python",
   "nbconvert_exporter": "python",
   "pygments_lexer": "ipython3",
   "version": "3.7.10"
  },
  "papermill": {
   "default_parameters": {},
   "duration": 1352.132188,
   "end_time": "2021-05-08T13:45:47.509532",
   "environment_variables": {},
   "exception": null,
   "input_path": "__notebook__.ipynb",
   "output_path": "__notebook__.ipynb",
   "parameters": {},
   "start_time": "2021-05-08T13:23:15.377344",
   "version": "2.3.3"
  }
 },
 "nbformat": 4,
 "nbformat_minor": 5
}
