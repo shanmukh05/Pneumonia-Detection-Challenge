{
 "cells": [
  {
   "cell_type": "code",
   "execution_count": 1,
   "id": "little-finnish",
   "metadata": {
    "execution": {
     "iopub.execute_input": "2021-04-30T08:24:36.898840Z",
     "iopub.status.busy": "2021-04-30T08:24:36.898317Z",
     "iopub.status.idle": "2021-04-30T08:25:29.229846Z",
     "shell.execute_reply": "2021-04-30T08:25:29.229211Z"
    },
    "papermill": {
     "duration": 52.343163,
     "end_time": "2021-04-30T08:25:29.230017",
     "exception": false,
     "start_time": "2021-04-30T08:24:36.886854",
     "status": "completed"
    },
    "tags": []
   },
   "outputs": [],
   "source": [
    "!pip install /kaggle/input/kerasapplications -q\n",
    "!pip install /kaggle/input/efficientnet-keras-source-code/ -q --no-deps\n"
   ]
  },
  {
   "cell_type": "code",
   "execution_count": 2,
   "id": "derived-disability",
   "metadata": {
    "_cell_guid": "b1076dfc-b9ad-4769-8c92-a6c4dae69d19",
    "_uuid": "8f2839f25d086af736a60e9eeb907d3b93b6e0e5",
    "execution": {
     "iopub.execute_input": "2021-04-30T08:25:29.244146Z",
     "iopub.status.busy": "2021-04-30T08:25:29.243383Z",
     "iopub.status.idle": "2021-04-30T08:25:34.937034Z",
     "shell.execute_reply": "2021-04-30T08:25:34.935964Z"
    },
    "papermill": {
     "duration": 5.702454,
     "end_time": "2021-04-30T08:25:34.937180",
     "exception": false,
     "start_time": "2021-04-30T08:25:29.234726",
     "status": "completed"
    },
    "tags": []
   },
   "outputs": [],
   "source": [
    "#-------------------\n",
    "# importing libraries\n",
    "#-------------------\n",
    "import tensorflow as tf\n",
    "import efficientnet.tfkeras as efn\n",
    "import tensorflow_addons as tfa\n",
    "\n",
    "import pandas as pd\n",
    "import numpy as np\n",
    "\n",
    "import os\n",
    "import shutil"
   ]
  },
  {
   "cell_type": "code",
   "execution_count": 3,
   "id": "through-proceeding",
   "metadata": {
    "execution": {
     "iopub.execute_input": "2021-04-30T08:25:34.966446Z",
     "iopub.status.busy": "2021-04-30T08:25:34.965905Z",
     "iopub.status.idle": "2021-04-30T08:25:34.979043Z",
     "shell.execute_reply": "2021-04-30T08:25:34.978566Z"
    },
    "papermill": {
     "duration": 0.037529,
     "end_time": "2021-04-30T08:25:34.979155",
     "exception": false,
     "start_time": "2021-04-30T08:25:34.941626",
     "status": "completed"
    },
    "tags": []
   },
   "outputs": [],
   "source": [
    "HEIGHT,WIDTH = 224,224\n",
    "CHANNELS = 3\n",
    "BATCH_SIZE = 32\n",
    "TEST_PATH = \"../input/pneumonia-classification-challenge/pneumonia_dataset/pneumonia_dataset/test/\"\n",
    "test_df = pd.read_csv(\"../input/pneumonia-classification-challenge/pneumonia_dataset/pneumonia_dataset/test.csv\")\n",
    "classes_dict = {\n",
    "                 0 : 'normal', \n",
    "                 1 : 'pneumonia'\n",
    "               }\n",
    "AUTO = tf.data.experimental.AUTOTUNE\n",
    "\n",
    "\n",
    "MODEL_PATH = \"../input/pneumonia-classification-challenge-training\""
   ]
  },
  {
   "cell_type": "code",
   "execution_count": 4,
   "id": "unknown-crown",
   "metadata": {
    "execution": {
     "iopub.execute_input": "2021-04-30T08:25:35.872492Z",
     "iopub.status.busy": "2021-04-30T08:25:35.871550Z",
     "iopub.status.idle": "2021-04-30T08:25:37.617710Z",
     "shell.execute_reply": "2021-04-30T08:25:37.618896Z"
    },
    "papermill": {
     "duration": 2.635611,
     "end_time": "2021-04-30T08:25:37.619108",
     "exception": false,
     "start_time": "2021-04-30T08:25:34.983497",
     "status": "completed"
    },
    "tags": []
   },
   "outputs": [],
   "source": [
    "\n",
    "def process_img(filepath):\n",
    "    image = tf.io.read_file(filepath)\n",
    "    image = tf.image.decode_png(image, channels=CHANNELS)\n",
    "    image = tf.image.convert_image_dtype(image, tf.float32) \n",
    "    image = tf.image.resize(image, [HEIGHT,WIDTH])\n",
    "    return image\n",
    "\n",
    "\n",
    "files_ls = list(test_df[\"filename\"])\n",
    "files_ls = [TEST_PATH + i for i in files_ls]\n",
    "\n",
    "test_ds = tf.data.Dataset.from_tensor_slices(files_ls)\n",
    "test_ds = test_ds.map(process_img,num_parallel_calls=AUTO)\n",
    "test_ds = test_ds.batch(BATCH_SIZE).prefetch(AUTO)"
   ]
  },
  {
   "cell_type": "code",
   "execution_count": 5,
   "id": "closed-addition",
   "metadata": {
    "execution": {
     "iopub.execute_input": "2021-04-30T08:25:37.642912Z",
     "iopub.status.busy": "2021-04-30T08:25:37.642139Z",
     "iopub.status.idle": "2021-04-30T08:27:15.483242Z",
     "shell.execute_reply": "2021-04-30T08:27:15.482710Z"
    },
    "papermill": {
     "duration": 97.856375,
     "end_time": "2021-04-30T08:27:15.483362",
     "exception": false,
     "start_time": "2021-04-30T08:25:37.626987",
     "status": "completed"
    },
    "tags": []
   },
   "outputs": [
    {
     "data": {
      "text/html": [
       "<div>\n",
       "<style scoped>\n",
       "    .dataframe tbody tr th:only-of-type {\n",
       "        vertical-align: middle;\n",
       "    }\n",
       "\n",
       "    .dataframe tbody tr th {\n",
       "        vertical-align: top;\n",
       "    }\n",
       "\n",
       "    .dataframe thead th {\n",
       "        text-align: right;\n",
       "    }\n",
       "</style>\n",
       "<table border=\"1\" class=\"dataframe\">\n",
       "  <thead>\n",
       "    <tr style=\"text-align: right;\">\n",
       "      <th></th>\n",
       "      <th>filename</th>\n",
       "      <th>label</th>\n",
       "    </tr>\n",
       "  </thead>\n",
       "  <tbody>\n",
       "    <tr>\n",
       "      <th>0</th>\n",
       "      <td>CXR_test_519.png</td>\n",
       "      <td>pneumonia</td>\n",
       "    </tr>\n",
       "    <tr>\n",
       "      <th>1</th>\n",
       "      <td>CXR_test_578.png</td>\n",
       "      <td>normal</td>\n",
       "    </tr>\n",
       "    <tr>\n",
       "      <th>2</th>\n",
       "      <td>CXR_test_359.png</td>\n",
       "      <td>normal</td>\n",
       "    </tr>\n",
       "    <tr>\n",
       "      <th>3</th>\n",
       "      <td>CXR_test_573.png</td>\n",
       "      <td>pneumonia</td>\n",
       "    </tr>\n",
       "    <tr>\n",
       "      <th>4</th>\n",
       "      <td>CXR_test_471.png</td>\n",
       "      <td>pneumonia</td>\n",
       "    </tr>\n",
       "  </tbody>\n",
       "</table>\n",
       "</div>"
      ],
      "text/plain": [
       "           filename      label\n",
       "0  CXR_test_519.png  pneumonia\n",
       "1  CXR_test_578.png     normal\n",
       "2  CXR_test_359.png     normal\n",
       "3  CXR_test_573.png  pneumonia\n",
       "4  CXR_test_471.png  pneumonia"
      ]
     },
     "execution_count": 5,
     "metadata": {},
     "output_type": "execute_result"
    }
   ],
   "source": [
    "pred_arr = 0 \n",
    "count = 0\n",
    "\n",
    "for i,file in enumerate(os.listdir(MODEL_PATH)):\n",
    "    if file.split(\".\")[-1] == \"h5\":\n",
    "        count+=1\n",
    "        model = tf.keras.models.load_model(os.path.join(MODEL_PATH,file))\n",
    "        pred_arr += model.predict(test_ds)\n",
    "\n",
    "pred_arr = pred_arr/count \n",
    "\n",
    "#{'normal': 0, 'pneumonia': 1}\n",
    "pred_ls = [classes_dict[np.argmax(i)] for i in pred_arr]\n",
    "test_df[\"label\"] = pred_ls\n",
    "test_df.to_csv(\"submission.csv\",index = False)\n",
    "test_df.head()"
   ]
  }
 ],
 "metadata": {
  "kernelspec": {
   "display_name": "Python 3",
   "language": "python",
   "name": "python3"
  },
  "language_info": {
   "codemirror_mode": {
    "name": "ipython",
    "version": 3
   },
   "file_extension": ".py",
   "mimetype": "text/x-python",
   "name": "python",
   "nbconvert_exporter": "python",
   "pygments_lexer": "ipython3",
   "version": "3.7.9"
  },
  "papermill": {
   "default_parameters": {},
   "duration": 166.797407,
   "end_time": "2021-04-30T08:27:18.640263",
   "environment_variables": {},
   "exception": null,
   "input_path": "__notebook__.ipynb",
   "output_path": "__notebook__.ipynb",
   "parameters": {},
   "start_time": "2021-04-30T08:24:31.842856",
   "version": "2.3.2"
  }
 },
 "nbformat": 4,
 "nbformat_minor": 5
}
